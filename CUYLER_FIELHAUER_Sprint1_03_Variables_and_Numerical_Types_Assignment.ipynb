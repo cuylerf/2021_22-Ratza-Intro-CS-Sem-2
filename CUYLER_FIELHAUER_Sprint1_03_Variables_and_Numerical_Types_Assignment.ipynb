{
  "cells": [
    {
      "cell_type": "markdown",
      "metadata": {
        "id": "view-in-github",
        "colab_type": "text"
      },
      "source": [
        "<a href=\"https://colab.research.google.com/github/cuylerf/2021_22-Ratza-Intro-CS-Sem-2/blob/main/CUYLER_FIELHAUER_Sprint1_03_Variables_and_Numerical_Types_Assignment.ipynb\" target=\"_parent\"><img src=\"https://colab.research.google.com/assets/colab-badge.svg\" alt=\"Open In Colab\"/></a>"
      ]
    },
    {
      "cell_type": "markdown",
      "source": [
        "# Key Concepts"
      ],
      "metadata": {
        "collapsed": false,
        "id": "BVd2U0-QVtjS"
      }
    },
    {
      "cell_type": "markdown",
      "source": [
        "### What does it mean for a variable to be mutable or immutable?\n",
        "a mutable variable can be changed after its created but imutable cant\n",
        "\n",
        "\n",
        "### What is the name of the enhancement proposal that outlines Python code style?\n",
        "pep-8\n",
        "\n",
        "\n",
        "### What is the difference between static and dynamic variables?\n",
        "static is non changing variables but dynamic can change\n",
        "\n",
        "\n",
        "### What are reserved keywords?\n",
        "they are keywords that cant be used in names like variables\n",
        "\n",
        "\n",
        "### What are the rules for variable naming in Python?\n",
        "you can name it anything that isnt a key word and you have to put underscores as spaces\n",
        "\n",
        "\n",
        "### What are the two main numerical types in Python?\n",
        "strings and integers\n",
        "\n",
        "\n",
        "### What are the two components of a complex number?\n",
        "the number and the letter\n",
        "\n",
        "\n"
      ],
      "metadata": {
        "collapsed": false,
        "id": "fdi3QbIxVtjX"
      }
    },
    {
      "cell_type": "markdown",
      "source": [
        "# Code"
      ],
      "metadata": {
        "collapsed": false,
        "id": "ullMrmMeVtjY"
      }
    },
    {
      "cell_type": "markdown",
      "source": [
        "Assign the variables `var_1`, `var_2`, and `var_3` to the value `\"potato\"`"
      ],
      "metadata": {
        "collapsed": false,
        "id": "eyOFJMWxVtjY"
      }
    },
    {
      "cell_type": "code",
      "execution_count": null,
      "metadata": {
        "collapsed": true,
        "id": "HzwaNx89VtjZ"
      },
      "outputs": [],
      "source": [
        "var_1=potato\n",
        "var_2=var_1\n",
        "var_3=var_2"
      ]
    },
    {
      "cell_type": "markdown",
      "source": [
        "Convert an integer to a float and back to an integer"
      ],
      "metadata": {
        "collapsed": false,
        "id": "7W3GU7haVtja"
      }
    },
    {
      "cell_type": "code",
      "execution_count": null,
      "outputs": [
        {
          "output_type": "stream",
          "name": "stdout",
          "text": [
            "10.0\n",
            "10\n"
          ]
        }
      ],
      "source": [
        "ten=10 \n",
        "\n",
        "print(float(ten))\n",
        "int(ten)\n",
        "print(ten)"
      ],
      "metadata": {
        "pycharm": {
          "name": "#%%\n"
        },
        "id": "ED9i1q80Vtja",
        "colab": {
          "base_uri": "https://localhost:8080/"
        },
        "outputId": "62fe1c36-4fd0-4c53-ccd4-620b8251f9c8"
      }
    },
    {
      "cell_type": "code",
      "execution_count": null,
      "outputs": [],
      "source": [
        ""
      ],
      "metadata": {
        "pycharm": {
          "name": "#%%\n"
        },
        "id": "ov9DPEHkVtjb"
      }
    },
    {
      "cell_type": "markdown",
      "source": [
        "Evaluate `42 = 6j + 6`"
      ],
      "metadata": {
        "collapsed": false,
        "id": "paDSwm6UVtjb"
      }
    },
    {
      "cell_type": "code",
      "execution_count": 26,
      "outputs": [
        {
          "output_type": "stream",
          "name": "stdout",
          "text": [
            "6.0\n"
          ]
        }
      ],
      "source": [
        "j=(42-6)/6\n",
        "print(j)"
      ],
      "metadata": {
        "pycharm": {
          "name": "#%%\n"
        },
        "id": "RPwaK47tVtjb",
        "colab": {
          "base_uri": "https://localhost:8080/"
        },
        "outputId": "379582bd-1fa6-45ca-a934-7173ae33b38f"
      }
    }
  ],
  "metadata": {
    "kernelspec": {
      "name": "python3",
      "language": "python",
      "display_name": "Python 3 (ipykernel)"
    },
    "language_info": {
      "codemirror_mode": {
        "name": "ipython",
        "version": 2
      },
      "file_extension": ".py",
      "mimetype": "text/x-python",
      "name": "python",
      "nbconvert_exporter": "python",
      "pygments_lexer": "ipython2",
      "version": "2.7.6"
    },
    "colab": {
      "name": "CUYLER FIELHAUER - Sprint1 03_Variables-and-Numerical-Types-Assignment.ipynb",
      "provenance": [],
      "include_colab_link": true
    }
  },
  "nbformat": 4,
  "nbformat_minor": 0
}